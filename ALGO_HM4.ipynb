{
 "cells": [
  {
   "cell_type": "markdown",
   "metadata": {},
   "source": [
    "4. Algorithmic Question"
   ]
  },
  {
   "cell_type": "markdown",
   "metadata": {},
   "source": [
    "Help Arya by providing a pseudocode for finding an optimal playing strategy, that is, a strategy that maximizes her value. (Hint: Use recursion, assuming that both players play optimally)."
   ]
  },
  {
   "cell_type": "markdown",
   "metadata": {},
   "source": [
    "a) TO DO"
   ]
  },
  {
   "cell_type": "markdown",
   "metadata": {},
   "source": [
    "\n",
    "b) Write a Python program implementing her game strategy. Try different array lengths to test the algorithm.\n"
   ]
  },
  {
   "cell_type": "code",
   "execution_count": 6,
   "metadata": {},
   "outputs": [
    {
     "name": "stdout",
     "output_type": "stream",
     "text": [
      "Array: [1, 5, 2] --> can Arya win? False\n",
      "Array: [1, 5, 233, 7] --> can Arya win? True\n",
      "Array: [20, 30, 40, 10, 5] --> can Arya win? True\n",
      "Array: [100, 200, 300] --> can Arya win? True\n",
      "Array: [1, 1, 1, 1] --> can Arya win? True\n"
     ]
    }
   ],
   "source": [
    "def arya_wins(nums, a_score=0, m_score=0, arya_turn=True):\n",
    "    if len(nums) == 0:\n",
    "        return a_score >= m_score  # Caso base: Arya vince se il suo punteggio è maggiore o uguale\n",
    "\n",
    "    if arya_turn:\n",
    "        # Turno di Arya: cerca di massimizzare le possibilità di vincita\n",
    "        choose_left = arya_wins(nums[1:], a_score + nums[0], m_score, False)\n",
    "        choose_right = arya_wins(nums[:-1], a_score + nums[-1], m_score, False)\n",
    "        return choose_left or choose_right\n",
    "    else:\n",
    "        # Turno di Mario: cerca di minimizzare le possibilità di vincita di Arya\n",
    "        choose_left = arya_wins(nums[1:], a_score, m_score + nums[0], True)\n",
    "        choose_right = arya_wins(nums[:-1], a_score, m_score + nums[-1], True)\n",
    "        return choose_left and choose_right  # Mario minimizza le possibilità di Arya\n",
    "\n",
    "# Testa l'algoritmo con array di diverse lunghezze\n",
    "test_arrays = [\n",
    "    [1, 5, 2],            # Esempio 1: Arya perde\n",
    "    [1, 5, 233, 7],       # Esempio 2: Arya vince\n",
    "    [20, 30, 40, 10, 5],  # Caso più complesso\n",
    "    [100, 200, 300],      # Arya deve scegliere attentamente\n",
    "    [1, 1, 1, 1],         # Parità: Arya vince per priorità\n",
    "]\n",
    "\n",
    "# Stampa i risultati\n",
    "for nums in test_arrays:\n",
    "    result = arya_wins(nums)\n",
    "    print(f'Array: {nums} --> can Arya win? {result}')\n"
   ]
  },
  {
   "cell_type": "markdown",
   "metadata": {},
   "source": [
    "c) Is the algorithm efficient? Prove that it is polynomial and provide an asymptotic time complexity bound, or show that it requires exponential time."
   ]
  },
  {
   "cell_type": "markdown",
   "metadata": {},
   "source": [
    "Analyzing the algorithm's structure, we observe that at each turn, the players can explore two different paths: choosing the first element of the array (nums[0]nums[0]) or the last one (nums[−1]nums[−1]).\n",
    "\n",
    "This results in a binary tree structure, where each node represents one of these decisions. For an array of length nn, the first level consists of two nodes, the second level has four nodes, and so on, doubling at each step. Overall, the number of nodes in the tree is (2n)−1, and the time complexity grows exponentially with n.\n",
    "\n",
    "Unlike polynomial algorithms, where execution time increases as a power of n, exponential growth makes this algorithm impractical for large inputs. For instance, an input size of n=20 would require over a million recursive calls. This highlights the inefficiency of the algorithm, which can be optimizated to reduce redundant calculations and improve scalability, bringing the time complexity down."
   ]
  },
  {
   "cell_type": "markdown",
   "metadata": {},
   "source": [
    "\n",
    "\n",
    "d) If the algorithm is exponential, explain how to make it polynomial and provide a pseudocode for it. Recompute the computational complexity of the updated algorithm.\n"
   ]
  },
  {
   "cell_type": "markdown",
   "metadata": {},
   "source": [
    "function arya_wins_2(nums):\n",
    "    n = length(nums)\n",
    "    memo = create_table(n, n)  // Tabella per memorizzare i risultati\n",
    "\n",
    "    function arya_wins(i, j, arya_turn):\n",
    "        if i > j:  // Caso base: array vuoto\n",
    "            return a_score >= m_score\n",
    "\n",
    "        if memo[i][j][arya_turn] is not null:  // Se il risultato è già calcolato\n",
    "            return memo[i][j][arya_turn]\n",
    "\n",
    "        if aryaTurn:  // Turno di Arya\n",
    "            chooseLeft = arya_wins(i+1, j, false)  // Arya sceglie nums[i]\n",
    "            chooseRight = arya_wins(i, j-1, false)  // Arya sceglie nums[j]\n",
    "            result = chooseLeft or chooseRight\n",
    "        else:  // Turno di Mario\n",
    "            chooseLeft = arya_wins(i+1, j, true)  // Mario sceglie nums[i]\n",
    "            chooseRight = arya_wins(i, j-1, true)  // Mario sceglie nums[j]\n",
    "            result = chooseLeft and chooseRight\n",
    "\n",
    "        memo[i][j][arya_turn] = result  // Salva il risultato\n",
    "        return result\n",
    "\n",
    "    return arya_wins(0, n-1, true)  // Inizia la ricorsione\n"
   ]
  },
  {
   "cell_type": "markdown",
   "metadata": {},
   "source": [
    "The main difference between the two pseudocodes is the introduction of **memoization** in the optimized version. In the original algorithm, the same subproblems were calculated lots of times, leading to an **exponential time complexity** (\\(O(2^n)\\)) as it explored every possible decision path.\n",
    "\n",
    "With memoization, the optimized algorithm stores results of solved subproblems in a table, so each unique subproblem (defined by the indices \\(i, j) and the current player) is calculated only once. This reduces the number of subproblems from \\(2^n\\) to \\(O(n^2)\\), since there are only \\(O(n^2)\\) unique configurations. As a result, the time complexity becomes **polynomial**\\(O(n^2)\\), making the algorithm much more efficient."
   ]
  },
  {
   "cell_type": "code",
   "execution_count": 9,
   "metadata": {},
   "outputs": [
    {
     "name": "stdout",
     "output_type": "stream",
     "text": [
      "Array: [1, 5, 2]\n",
      "Original result: False, time: 0.000000 seconds\n",
      "Memoized result: True, time: 0.000000 seconds\n",
      "--------------------------------------------------\n",
      "Array: [1, 5, 233, 7]\n",
      "Original result: True, time: 0.000000 seconds\n",
      "Memoized result: True, time: 0.000000 seconds\n",
      "--------------------------------------------------\n",
      "Array: [20, 30, 40, 10, 5, 32, 44, 99, 11, 2, 21, 9, 4, 8, 19, 188, 90, 12, 45, 32, 3, 4, 56, 8]\n",
      "Original result: True, time: 18.482687 seconds\n",
      "Memoized result: True, time: 0.006071 seconds\n",
      "--------------------------------------------------\n",
      "Array: [100, 200, 300]\n",
      "Original result: True, time: 0.000000 seconds\n",
      "Memoized result: True, time: 0.000000 seconds\n",
      "--------------------------------------------------\n",
      "Array: [1, 1, 1, 1]\n",
      "Original result: True, time: 0.000000 seconds\n",
      "Memoized result: True, time: 0.000000 seconds\n",
      "--------------------------------------------------\n"
     ]
    }
   ],
   "source": [
    "import time\n",
    "#new algorithm\n",
    "def arya_wins_2(nums):\n",
    "    n = len(nums)\n",
    "    dict_memoization={}\n",
    "\n",
    "    def new_arya_wins(a, b, arya_turn):\n",
    "        if a>b:\n",
    "            return True\n",
    "        \n",
    "        if (a,b, arya_turn) in dict_memoization:\n",
    "            return dict_memoization[(a, b, arya_turn)]\n",
    "        \n",
    "        if arya_turn== True:\n",
    "            choose_left= new_arya_wins(a+1, b, False)\n",
    "            choose_right= new_arya_wins(a, b-1, False)\n",
    "            c= choose_right or choose_left\n",
    "\n",
    "        else:\n",
    "            choose_left= new_arya_wins(a+1, b, True)\n",
    "            choose_right= new_arya_wins(a, b-1, True)\n",
    "            c= choose_right and choose_left\n",
    "\n",
    "        dict_memoization[(a, b, arya_turn)]= c\n",
    "        return c\n",
    "    return new_arya_wins(0, n-1, True)\n",
    "\n",
    "# Confronto dei risultati e dei tempi\n",
    "test_arrays = [\n",
    "    [1, 5, 2],\n",
    "    [1, 5, 233, 7],\n",
    "    [20, 30, 40, 10, 5, 32, 44, 99, 11, 2, 21, 9, 4, 8, 19, 188, 90, 12, 45, 32, 3, 4, 56, 8],\n",
    "    [100, 200, 300],\n",
    "    [1, 1, 1, 1],\n",
    "]\n",
    "\n",
    "for nums in test_arrays:\n",
    "    print(f\"Array: {nums}\")\n",
    "\n",
    "    # Tempo e risultato algoritmo originale\n",
    "    start_time = time.time()\n",
    "    result_original = arya_wins(nums)\n",
    "    original_time = time.time() - start_time\n",
    "    \n",
    "    # Tempo e risultato algoritmo ottimizzato\n",
    "    start_time = time.time()\n",
    "    result_memo = arya_wins_2(nums)\n",
    "    memo_time = time.time() - start_time\n",
    "    \n",
    "    # Confronto\n",
    "    print(f\"Original result: {result_original}, time: {original_time:.6f} seconds\")\n",
    "    print(f\"Memoized result: {result_memo}, time: {memo_time:.6f} seconds\")\n",
    "    print(\"-\" * 50)\n",
    "    \n",
    "    \n",
    "\n"
   ]
  }
 ],
 "metadata": {
  "kernelspec": {
   "display_name": "Python 3",
   "language": "python",
   "name": "python3"
  },
  "language_info": {
   "codemirror_mode": {
    "name": "ipython",
    "version": 3
   },
   "file_extension": ".py",
   "mimetype": "text/x-python",
   "name": "python",
   "nbconvert_exporter": "python",
   "pygments_lexer": "ipython3",
   "version": "3.12.1"
  }
 },
 "nbformat": 4,
 "nbformat_minor": 2
}

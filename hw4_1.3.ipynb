{
 "cells": [
  {
   "cell_type": "markdown",
   "metadata": {},
   "source": [
    "1.3 LSH\n"
   ]
  },
  {
   "cell_type": "code",
   "execution_count": 1,
   "metadata": {},
   "outputs": [],
   "source": [
    "import pandas as pd\n",
    "import random\n",
    "import hashlib\n",
    "from collections import defaultdict\n",
    "\n",
    "# Carica il dataset\n",
    "file_path = r'C:\\Users\\gallo\\Downloads\\archive\\rating.csv'  # Cambia con il tuo percorso\n",
    "data = pd.read_csv(file_path)\n",
    "\n",
    "# Raggruppa i film valutati da ciascun utente\n",
    "user_movies = data.groupby('userId')['movieId'].apply(set).to_dict()\n",
    "\n",
    "# Funzione per generare firme MinHash\n",
    "def minhash_signature(user_movies, num_hashes):\n",
    "    \"\"\"\n",
    "    Genera una firma MinHash per un utente.\n",
    "    - user_movies: Set di ID film valutati dall'utente.\n",
    "    - num_hashes: Numero di funzioni hash da usare.\n",
    "    \"\"\"\n",
    "    signature = []\n",
    "    for i in range(num_hashes):\n",
    "        random.seed(i)  # Per ottenere risultati ripetibili\n",
    "        a, b = random.randint(1, 100003), random.randint(0, 100003)\n",
    "        hash_func = lambda x: (a * x + b) % 100003  # Funzione hash casuale\n",
    "        min_hash = min(hash_func(movie) for movie in user_movies)\n",
    "        signature.append(min_hash)\n",
    "    return signature\n",
    "\n"
   ]
  },
  {
   "cell_type": "code",
   "execution_count": 2,
   "metadata": {},
   "outputs": [],
   "source": [
    "# Genera le firme MinHash per ogni utente\n",
    "num_hashes = 70  # Numero di funzioni hash\n",
    "user_signatures = {user: minhash_signature(movies, num_hashes) for user, movies in user_movies.items()}\n"
   ]
  },
  {
   "cell_type": "code",
   "execution_count": 3,
   "metadata": {},
   "outputs": [],
   "source": [
    "import hashlib\n",
    "from collections import defaultdict\n",
    "\n",
    "def create_buckets(user_signatures, num_bands, rows_per_band):\n",
    "    \"\"\"\n",
    "    Crea i bucket dividendo le firme MinHash in bande e hashando ogni banda.\n",
    "    \n",
    "    Parameters:\n",
    "    - user_signatures: Dizionario {user_id: MinHash_signature}.\n",
    "    - num_bands: Numero di bande in cui dividere le firme MinHash.\n",
    "    - rows_per_band: Numero di righe per banda.\n",
    "    \n",
    "    Returns:\n",
    "    - buckets: Dizionario {bucket_id: lista_di_utenti}.\n",
    "    \"\"\"\n",
    "    buckets = defaultdict(list)  # Bucket per raggruppare gli utenti\n",
    "\n",
    "    # Ciclo su ogni utente e la sua firma\n",
    "    for user_id, signature in user_signatures.items():\n",
    "        # Dividi la firma MinHash in bande\n",
    "        for band in range(num_bands):\n",
    "            # Estrai le righe della banda corrente\n",
    "            start_idx = band * rows_per_band\n",
    "            end_idx = start_idx + rows_per_band\n",
    "            band_rows = tuple(signature[start_idx:end_idx])\n",
    "\n",
    "            # Hasha la banda per creare un bucket ID unico\n",
    "            band_hash = hashlib.sha1(str(band_rows).encode()).hexdigest()\n",
    "\n",
    "            # Aggiungi l'utente al bucket corrispondente\n",
    "            buckets[band_hash].append(user_id)\n",
    "    \n",
    "    return buckets\n"
   ]
  },
  {
   "cell_type": "code",
   "execution_count": 15,
   "metadata": {},
   "outputs": [
    {
     "name": "stdout",
     "output_type": "stream",
     "text": [
      "Bucket 9666691962aa020f4102ecf15081c47a9607850b: [4]\n",
      "Bucket 5665af988ec23a93a1cd222771b90669c6c748ae: [4]\n",
      "Bucket 52806b80789dd257d0a4c061929fb7ff50ef144c: [4]\n",
      "Bucket 88e105c6368bddc8cbc1b5bc6ffc024055fdb04b: [4]\n",
      "Bucket 0279aaa3177091718f4e3beea41b4b07701cb31c: [4]\n",
      "Bucket 491e5fa53217a860999e51967c4bd407f36a537a: [4]\n",
      "Bucket f57b213967cc99ebf33dbaab8549e22b2c6b6af8: [4]\n",
      "Bucket d2e847e28e7f05a0df0988896bd107630a5ff677: [4]\n",
      "Bucket b3e0ba0812adc51574c0b8be6c821eecac04ecbd: [4]\n",
      "Bucket 4c029243d72cb6f5ca159d48586f44dc59ef21a2: [4]\n",
      "Bucket 131a4e354eec8e771c51645b88379658dcc7d299: [5]\n",
      "Bucket 897cf3776a8e2baa44b18cdc5839fe03b41f770f: [5]\n",
      "Bucket ce7288b4bd88e423989188c845de6f22a4ae7209: [5, 64263, 99407]\n",
      "Bucket 011e2e1ba8890c8f75b060a1652c3bfccfcb5a99: [5]\n",
      "Bucket f02d4e656d53167d0d0730d28b015c62ece19d1b: [5, 4436, 13416, 95909, 122340, 129977]\n"
     ]
    }
   ],
   "source": [
    "# Parametri LSH\n",
    "num_bands = 10\n",
    "rows_per_band = num_hashes // num_bands  # Ogni banda contiene (70/10=7) righe\n",
    "\n",
    "# Creazione dei bucket\n",
    "buckets = create_buckets(user_signatures, num_bands, rows_per_band)\n",
    "\n",
    "# Controlla i bucket\n",
    "for bucket_id, users in list(buckets.items())[30:45]:\n",
    "    print(f\"Bucket {bucket_id}: {users}\")"
   ]
  },
  {
   "cell_type": "code",
   "execution_count": 17,
   "metadata": {},
   "outputs": [
    {
     "name": "stdout",
     "output_type": "stream",
     "text": [
      "Film in comune tra gli utenti [5, 64263, 99407]: {1035, 1036, 11, 780, 141, 17, 788, 150, 1079, 440, 316, 318, 457, 587, 589, 590, 593, 595, 475, 480, 364, 500, 376, 377, 380}\n"
     ]
    }
   ],
   "source": [
    "# Lista di utenti nel bucket\n",
    "bucket_users = [5, 64263, 99407]\n",
    "\n",
    "# Verifica dei film in comune\n",
    "common_movies = set.intersection(*(user_movies[user] for user in bucket_users))\n",
    "\n",
    "print(f\"Film in comune tra gli utenti {bucket_users}: {common_movies}\")\n"
   ]
  },
  {
   "cell_type": "code",
   "execution_count": 22,
   "metadata": {},
   "outputs": [
    {
     "name": "stdout",
     "output_type": "stream",
     "text": [
      "Jaccard Similarity (User 5 - User 64263): 0.3047619047619048\n",
      "Jaccard Similarity (User 5 - User 99407): 0.3442622950819672\n",
      "Jaccard Similarity (User 64263 - User 99407): 0.2706766917293233\n"
     ]
    }
   ],
   "source": [
    "user1, user2, user3 = 5, 64263, 99407\n",
    "jaccard_12 = len(user_movies[user1].intersection(user_movies[user2])) / len(user_movies[user1].union(user_movies[user2]))\n",
    "jaccard_13 = len(user_movies[user1].intersection(user_movies[user3])) / len(user_movies[user1].union(user_movies[user3]))\n",
    "jaccard_23 = len(user_movies[user2].intersection(user_movies[user3])) / len(user_movies[user2].union(user_movies[user3]))\n",
    "\n",
    "print(f\"Jaccard Similarity (User {user1} - User {user2}): {jaccard_12}\")\n",
    "print(f\"Jaccard Similarity (User {user1} - User {user3}): {jaccard_13}\")\n",
    "print(f\"Jaccard Similarity (User {user2} - User {user3}): {jaccard_23}\")\n"
   ]
  },
  {
   "cell_type": "code",
   "execution_count": 12,
   "metadata": {},
   "outputs": [
    {
     "data": {
      "text/plain": [
       "{'Bucket con più di 1 utente': 298110,\n",
       " 'Bucket con più di 3 utenti': 140903,\n",
       " 'Bucket con più di 6 utenti': 81810}"
      ]
     },
     "execution_count": 12,
     "metadata": {},
     "output_type": "execute_result"
    }
   ],
   "source": [
    "# Calcoliamo quanti bucket hanno più di 1, più di 3 e più di 6 utenti\n",
    "buckets_more_than_1 = sum(1 for users in buckets.values() if len(users) > 1)\n",
    "buckets_more_than_3 = sum(1 for users in buckets.values() if len(users) > 3)\n",
    "buckets_more_than_6 = sum(1 for users in buckets.values() if len(users) > 6)\n",
    "\n",
    "# Risultati\n",
    "{\n",
    "    \"Bucket con più di 1 utente\": buckets_more_than_1,\n",
    "    \"Bucket con più di 3 utenti\": buckets_more_than_3,\n",
    "    \"Bucket con più di 6 utenti\": buckets_more_than_6\n",
    "}\n",
    "#len(buckets)"
   ]
  },
  {
   "cell_type": "code",
   "execution_count": 2,
   "metadata": {},
   "outputs": [],
   "source": [
    "def find_top_2_similar_users_interactive(target_user, buckets, user_movies, num_bands, rows_per_band):\n",
    "    while True:\n",
    "        similar_users = set()\n",
    "        \n",
    "        # Cerca utenti simili nei bucket\n",
    "        for bucket_id, users in buckets.items():\n",
    "            if target_user in users:\n",
    "                similar_users.update(users)\n",
    "        \n",
    "        # Rimuovi l'utente target dai possibili simili\n",
    "        similar_users.discard(target_user)\n",
    "        \n",
    "        # Se trovi utenti simili, calcola la similarità Jaccard e restituisci i migliori\n",
    "        if similar_users:\n",
    "            jaccard_scores = {}\n",
    "            for user in similar_users:\n",
    "                intersection = len(user_movies[target_user].intersection(user_movies[user]))\n",
    "                union = len(user_movies[target_user].union(user_movies[user]))\n",
    "                jaccard_scores[user] = intersection / union\n",
    "            \n",
    "            # Ordina gli utenti per similarità Jaccard\n",
    "            top_2_users = sorted(jaccard_scores.items(), key=lambda x: x[1], reverse=True)[:2]\n",
    "            return top_2_users\n",
    "        \n",
    "        # Se non trovi utenti simili, chiedi nuovi parametri\n",
    "        print(f\"Nessun utente simile trovato per l'utente {target_user}.\")\n",
    "        print(f\"Parametri attuali: num_bands={num_bands}, rows_per_band={rows_per_band}\")\n",
    "        \n",
    "        # Richiedi nuovi parametri tramite input\n",
    "        try:\n",
    "            num_bands = int(input(\"Inserisci il nuovo numero di bande (num_bands): \"))\n",
    "            rows_per_band = int(input(\"Inserisci il nuovo numero di righe per banda (rows_per_band): \"))\n",
    "        except ValueError:\n",
    "            print(\"Inserisci un numero valido.\")\n",
    "            continue\n",
    "        \n",
    "        # Opzionale: aggiungi qui un ricalcolo dei bucket se necessario con i nuovi parametri\n"
   ]
  },
  {
   "cell_type": "code",
   "execution_count": 3,
   "metadata": {},
   "outputs": [
    {
     "ename": "NameError",
     "evalue": "name 'buckets' is not defined",
     "output_type": "error",
     "traceback": [
      "\u001b[1;31m---------------------------------------------------------------------------\u001b[0m",
      "\u001b[1;31mNameError\u001b[0m                                 Traceback (most recent call last)",
      "Cell \u001b[1;32mIn[3], line 7\u001b[0m\n\u001b[0;32m      5\u001b[0m \u001b[38;5;66;03m# Esempio: Cerca utenti simili per l'utente 97\u001b[39;00m\n\u001b[0;32m      6\u001b[0m target_user \u001b[38;5;241m=\u001b[39m \u001b[38;5;241m97\u001b[39m\n\u001b[1;32m----> 7\u001b[0m top_2_similar_users \u001b[38;5;241m=\u001b[39m find_top_2_similar_users_interactive(target_user, \u001b[43mbuckets\u001b[49m, user_movies, num_bands, rows_per_band)\n\u001b[0;32m      9\u001b[0m \u001b[38;5;28;01mif\u001b[39;00m top_2_similar_users:\n\u001b[0;32m     10\u001b[0m     \u001b[38;5;28mprint\u001b[39m(\u001b[38;5;124mf\u001b[39m\u001b[38;5;124m\"\u001b[39m\u001b[38;5;124mI due utenti più simili a \u001b[39m\u001b[38;5;132;01m{\u001b[39;00mtarget_user\u001b[38;5;132;01m}\u001b[39;00m\u001b[38;5;124m sono:\u001b[39m\u001b[38;5;124m\"\u001b[39m)\n",
      "\u001b[1;31mNameError\u001b[0m: name 'buckets' is not defined"
     ]
    }
   ],
   "source": [
    "# Parametri iniziali\n",
    "num_bands = 10\n",
    "rows_per_band = 70 // num_bands  # Calcolo iniziale delle righe per banda\n",
    "\n",
    "# Esempio: Cerca utenti simili per l'utente 97\n",
    "target_user = 97\n",
    "top_2_similar_users = find_top_2_similar_users_interactive(target_user, buckets, user_movies, num_bands, rows_per_band)\n",
    "\n",
    "if top_2_similar_users:\n",
    "    print(f\"I due utenti più simili a {target_user} sono:\")\n",
    "    for user, score in top_2_similar_users:\n",
    "        print(f\"Utente {user} con Similarità Jaccard: {score:.2f}\")\n"
   ]
  },
  {
   "cell_type": "code",
   "execution_count": 8,
   "metadata": {},
   "outputs": [
    {
     "name": "stdout",
     "output_type": "stream",
     "text": [
      "Raccomandazioni: []\n"
     ]
    },
    {
     "ename": "NameError",
     "evalue": "name 'target_user' is not defined",
     "output_type": "error",
     "traceback": [
      "\u001b[1;31m---------------------------------------------------------------------------\u001b[0m",
      "\u001b[1;31mNameError\u001b[0m                                 Traceback (most recent call last)",
      "Cell \u001b[1;32mIn[8], line 14\u001b[0m\n\u001b[0;32m     12\u001b[0m recommendations \u001b[38;5;241m=\u001b[39m recommend_movies(\u001b[38;5;241m190\u001b[39m, similar_users, user_movies)\n\u001b[0;32m     13\u001b[0m \u001b[38;5;28mprint\u001b[39m(\u001b[38;5;124m\"\u001b[39m\u001b[38;5;124mRaccomandazioni:\u001b[39m\u001b[38;5;124m\"\u001b[39m, recommendations)\n\u001b[1;32m---> 14\u001b[0m \u001b[38;5;28mprint\u001b[39m(\u001b[38;5;124mf\u001b[39m\u001b[38;5;124m\"\u001b[39m\u001b[38;5;124mSimilar Users for Target User \u001b[39m\u001b[38;5;132;01m{\u001b[39;00m\u001b[43mtarget_user\u001b[49m\u001b[38;5;132;01m}\u001b[39;00m\u001b[38;5;124m: \u001b[39m\u001b[38;5;132;01m{\u001b[39;00msimilar_users\u001b[38;5;132;01m}\u001b[39;00m\u001b[38;5;124m\"\u001b[39m)\n",
      "\u001b[1;31mNameError\u001b[0m: name 'target_user' is not defined"
     ]
    }
   ],
   "source": [
    "def recommend_movies(target_user, similar_users, user_movies, num_recommendations=5):\n",
    "    recommendations = {}\n",
    "    for similar_user, _, _ in similar_users:\n",
    "        for movie in user_movies[similar_user]:\n",
    "            if movie not in user_movies[target_user]:\n",
    "                recommendations[movie] = recommendations.get(movie, 0) + 1  # Incrementa il punteggio\n",
    "    \n",
    "    # Ordina i film in base alla frequenza e limita al numero desiderato\n",
    "    return sorted(recommendations.items(), key=lambda x: x[1], reverse=True)[:num_recommendations]\n",
    "\n",
    "# Genera raccomandazioni per User 1\n",
    "recommendations = recommend_movies(190, similar_users, user_movies)\n",
    "print(\"Raccomandazioni:\", recommendations)\n",
    "print(f\"Similar Users for Target User {target_user}: {similar_users}\")\n",
    "\n"
   ]
  }
 ],
 "metadata": {
  "kernelspec": {
   "display_name": "Python 3",
   "language": "python",
   "name": "python3"
  },
  "language_info": {
   "codemirror_mode": {
    "name": "ipython",
    "version": 3
   },
   "file_extension": ".py",
   "mimetype": "text/x-python",
   "name": "python",
   "nbconvert_exporter": "python",
   "pygments_lexer": "ipython3",
   "version": "3.12.1"
  }
 },
 "nbformat": 4,
 "nbformat_minor": 2
}
